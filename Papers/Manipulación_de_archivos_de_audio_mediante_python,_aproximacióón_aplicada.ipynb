{
  "nbformat": 4,
  "nbformat_minor": 0,
  "metadata": {
    "colab": {
      "name": "Manipulación de archivos de audio mediante python, aproximacióón aplicada.ipynb",
      "provenance": []
    },
    "kernelspec": {
      "name": "python3",
      "display_name": "Python 3"
    },
    "language_info": {
      "name": "python"
    }
  },
  "cells": [
    {
      "cell_type": "markdown",
      "metadata": {
        "id": "0WNWt46qZURU"
      },
      "source": [
        "# Manipulación de  archivos de audio mediante python, aproximacióón aplicada\n",
        "\n",
        "---\n",
        "\n",
        "*Autor:* **Andrés Manuel Prieto Álvarez**\n",
        "\n",
        "*Materia:* **Computación Blanda**\n",
        "\n",
        "---\n",
        "\n",
        "## Contenidos\n",
        "\n",
        "*   Introducción\n",
        "*   Notas preliminares\n",
        "*   Graficación de un archivo de audio\n",
        "*   Transformación a frecuencia de un archivo de audio\n",
        "*   Generación de un archivo de audio\n",
        "*   Algunas notas\n",
        "*   Referencias\n",
        "\n",
        "---\n",
        "\n",
        "# Introducción\n",
        "\n",
        "En este documento se dará un ejemplo practico de como usar python para la generación y tratammiento de audio usando librerías de Python como las que se indicará en \"Notas preliminares\", como parte de esta introducción indicaremos que los archivos que se usarán son todos del formato .wav, esto se debe a que los archivos de esta extensión no tienen su audio comprimido, cosa que si ocurre con los archivos de extensión como .mp3 entre otros, la aproximación que se deja expresada en este paper surge como interpretación de un material brindado por el profesor de computación blanda Gilberto Vargas Cano, en este documento se encuentran notas, sobre la forma de desarrollar graficación de audio en el dominio del tiempo, usando matplotlib, para ello se usará la transformada de Fourier, instrumento usado por las tecnicas de comunicaciones; de modo similar se explicará el método para transformar estas graficas expresadas en el dominio de la frecuencia; por último, se dará muestra del como generar archivos de audio.\n",
        "\n"
      ]
    },
    {
      "cell_type": "markdown",
      "metadata": {
        "id": "KZVfxOs-soHF"
      },
      "source": [
        "# Notas preliminares\n",
        "\n",
        "Para la aplicación practica de lo que se expresará en este Paper, usaremos las siguientes librerías:\n",
        "\n",
        "* Numpy: Nos ayudará con la manipulación de la información, la generación de las estructuras de programación y algebra lineal necesarias para el tratamiento de la información.\n",
        "\n",
        "* Matplotlib.pyplot: Nos ayudará con la generación de las graficas que representarán nuestra información\n",
        "\n",
        "* Scipy.io: Con esta librería realizaremos la manipulación de los archivos de audio, como tambien la generación de los mismo usando una de sus funciones, puntualmente wav.write"
      ]
    },
    {
      "cell_type": "code",
      "metadata": {
        "id": "qIEE-VgoZSXT"
      },
      "source": [
        "import numpy as np\n",
        "import matplotlib.pyplot as plt\n",
        "from scipy.io import wavfile as wav"
      ],
      "execution_count": 90,
      "outputs": []
    },
    {
      "cell_type": "markdown",
      "metadata": {
        "id": "r8PUzrHJVjvV"
      },
      "source": [
        "## Variables iniciales\n",
        "\n",
        "En este apartado agregaremos las vavirables que se usaran en los siguientes modelos, se recogen los datos y posteriormente se normalizan para poder realizar graficas"
      ]
    },
    {
      "cell_type": "code",
      "metadata": {
        "id": "0lU0INUpVvd5"
      },
      "source": [
        "# Lectura de archivos de audio:\n",
        "\n",
        "# Leemos el archivo que vamos a graficar en el dominio del tiempo\n",
        "frecuencia_sonido, senial_sonido = wav.read('sonido_aleatorio.wav')\n",
        "\n",
        "# Leemos el archivo que vamos a graficar en el dominio de la frecuencia\n",
        "frecuencia_palabra, senial_palabra = wav.read('palabra_hablada.wav')"
      ],
      "execution_count": 91,
      "outputs": []
    },
    {
      "cell_type": "code",
      "metadata": {
        "colab": {
          "base_uri": "https://localhost:8080/"
        },
        "id": "Td6CqNmtWOQ9",
        "outputId": "20a61d43-7bde-40a9-d40c-f80786e891f2"
      },
      "source": [
        "# Mostrar los parámetros de la grafica del dominio del tiempo\n",
        "print('Tipo de dato:', senial_sonido.dtype)\n",
        "print('Tamaño señal:', senial_sonido.shape[0])\n",
        "print('Frecuencia de muestreo: ', frecuencia_sonido)\n",
        "print('Duracción de la señal:', round(senial_sonido.shape[0] / float(frecuencia_sonido), 2), 'seconds')"
      ],
      "execution_count": 92,
      "outputs": [
        {
          "output_type": "stream",
          "text": [
            "Tipo de dato: int16\n",
            "Tamaño señal: 132300\n",
            "Frecuencia de muestreo:  44100\n",
            "Duracción de la señal: 3.0 seconds\n"
          ],
          "name": "stdout"
        }
      ]
    },
    {
      "cell_type": "code",
      "metadata": {
        "colab": {
          "base_uri": "https://localhost:8080/"
        },
        "id": "91NPLiKKW2vp",
        "outputId": "8d18c233-9920-45d7-9e8a-b1fcaa31e8f6"
      },
      "source": [
        "# Mostrar los parámetros de la grafica del dominio de la frecuencia\n",
        "print('Tipo de dato:', senial_palabra.dtype)\n",
        "print('Tamaño señal:', senial_palabra.shape[0])\n",
        "print('Frecuencia de muestreo:', frecuencia_palabra)\n",
        "print('Duracción de la señal:', round(senial_palabra.shape[0] / float(frecuencia_palabra), 2), 'seconds')"
      ],
      "execution_count": 93,
      "outputs": [
        {
          "output_type": "stream",
          "text": [
            "Tipo de dato: int16\n",
            "Tamaño señal: 3251\n",
            "Frecuencia de muestreo: 8000\n",
            "Duracción de la señal: 0.41 seconds\n"
          ],
          "name": "stdout"
        }
      ]
    },
    {
      "cell_type": "code",
      "metadata": {
        "id": "-uqCh4XMXqds"
      },
      "source": [
        "# Normalización de los datos (Las señales):\n",
        "\n",
        "# Normalización del archivo de sonido\n",
        "senial_sonido = senial_sonido / np.power(2, 15)\n",
        "\n",
        "# Normalización del archivo de palabra\n",
        "senial_palabra = senial_palabra / np.power(2, 15) "
      ],
      "execution_count": 94,
      "outputs": []
    },
    {
      "cell_type": "markdown",
      "metadata": {
        "id": "EZLoLaOGswcj"
      },
      "source": [
        "# Graficación de un archivo de audio\n",
        "\n",
        "En estes apartado se describirá como transformar archivos de audio en una expresión matematica graficable en el plano carterisano, para esto se usarán las ecuacuiones respectivas a ondas, es decir; adaptamos los datos de entrada (senial_sonido) tomando los 50 primeros valores y construimos un eje del tiempo, para ello usamos el facto de 1000 que nos dará la medida del tiempo (En ms); al tener esto listo, podemos graficar"
      ]
    },
    {
      "cell_type": "code",
      "metadata": {
        "id": "m4gFv2SnwhFu"
      },
      "source": [
        "# Extraer los primeros 50 valores\n",
        "senial_sonido = senial_sonido[:50]"
      ],
      "execution_count": 122,
      "outputs": []
    },
    {
      "cell_type": "code",
      "metadata": {
        "id": "FlD6gXhEwfei"
      },
      "source": [
        "# Construir el eje de tiempo en milisegundos\n",
        "eje_del_tiempo = 1000 * np.arange(0, len(senial_sonido), 1) / float(frecuencia_sonido)"
      ],
      "execution_count": 123,
      "outputs": []
    },
    {
      "cell_type": "code",
      "metadata": {
        "colab": {
          "base_uri": "https://localhost:8080/",
          "height": 295
        },
        "id": "P3_Sqvf0wexr",
        "outputId": "a5af1f43-67f4-429e-82cd-7d110616b886"
      },
      "source": [
        "# Dibujar la señal de audio\n",
        "plt.plot(eje_del_tiempo, senial_sonido, color='black')\n",
        "plt.title('Señal Entrada de Audio')\n",
        "plt.xlabel('Tiempo (milisegundos)')\n",
        "plt.ylabel('Amplitud')\n",
        "plt.show()"
      ],
      "execution_count": 124,
      "outputs": [
        {
          "output_type": "display_data",
          "data": {
            "image/png": "[encoded data removed]",
            "text/plain": [
              "<Figure size 432x288 with 1 Axes>"
            ]
          },
          "metadata": {
            "tags": [],
            "needs_background": "light"
          }
        }
      ]
    },
    {
      "cell_type": "markdown",
      "metadata": {
        "id": "5uhKG_FwszKC"
      },
      "source": [
        "# Transformación a frecuencia de un archivo de audio\n",
        "\n",
        "Para la transformación al dominio de la frecuencia, necesitamos de una serie de datos necesarios para poder realizar las graficas correspondientes. Usando el archivo de palabra sacamos la longitud de la palabra (La cantidad de datos), la mitad de la longitud y la frecuencia de la señal, usando la transformada de Fourier; con esta información ya obtenida se hace necesario realizar algunos ajustes, el primero es normalizar la información y el segundo es ajustar la información en los casos pares e impares de la información que se está tratando; para graficar se necesita extraer el valor de la potencia de la señal que corresponde con el eje Y (En dB), además de construir el eje X (kHz)"
      ]
    },
    {
      "cell_type": "code",
      "metadata": {
        "id": "IDVPiKd0yGjp"
      },
      "source": [
        "# Extraer la longitud de la señal de audio\n",
        "longitud_senial = len(senial_palabra)"
      ],
      "execution_count": 98,
      "outputs": []
    },
    {
      "cell_type": "code",
      "metadata": {
        "id": "ikaZVRQxyH9m"
      },
      "source": [
        "# Extraer la mitad de la longitud\n",
        "mitad_longitud = np.ceil((longitud_senial + 1) / 2.0).astype(np.int)"
      ],
      "execution_count": 99,
      "outputs": []
    },
    {
      "cell_type": "code",
      "metadata": {
        "id": "XUjaWGtbwwUs"
      },
      "source": [
        "# Aplicar la Transformada de Fourier\n",
        "frecuencia_senial = np.fft.fft(senial_palabra)"
      ],
      "execution_count": 101,
      "outputs": []
    },
    {
      "cell_type": "code",
      "metadata": {
        "colab": {
          "base_uri": "https://localhost:8080/"
        },
        "id": "_xK0ttwEmkUO",
        "outputId": "2e88f798-8ea6-450f-8cd5-af95538a065f"
      },
      "source": [
        "# Grafiquemos la información anterior\n",
        "print(\"Longitud de la señal: \", longitud_senial)\n",
        "print(\"Mitad de la longitud: \", mitad_longitud)\n",
        "print(\"Frecuencia de la señal: \", frecuencia_senial)"
      ],
      "execution_count": 131,
      "outputs": [
        {
          "output_type": "stream",
          "text": [
            "Longitud de la señal:  3251\n",
            "Mitad de la longitud:  1626\n",
            "Frecuencia de la señal:  [3.21469717e-11 6.57864862e-11 6.22509348e-11 ... 2.54366243e-10\n",
            " 3.36502390e-10 6.60015218e-10]\n"
          ],
          "name": "stdout"
        }
      ]
    },
    {
      "cell_type": "code",
      "metadata": {
        "id": "76YBgFJkyP0H"
      },
      "source": [
        "# Normalización\n",
        "frecuencia_senial = abs(frecuencia_senial[0:mitad_longitud]) / longitud_senial"
      ],
      "execution_count": 102,
      "outputs": []
    },
    {
      "cell_type": "code",
      "metadata": {
        "id": "wzV-fy3_yRSX"
      },
      "source": [
        "# Cuadrado\n",
        "frecuencia_senial **= 2"
      ],
      "execution_count": 103,
      "outputs": []
    },
    {
      "cell_type": "code",
      "metadata": {
        "id": "0YpU1qt_yTDm"
      },
      "source": [
        "# Extrae la longitud de la señal de frecuencia transformada\n",
        "longitud_frecuencia_tranformada = len(frecuencia_senial)"
      ],
      "execution_count": 132,
      "outputs": []
    },
    {
      "cell_type": "code",
      "metadata": {
        "id": "m8ylt7ooyY1L"
      },
      "source": [
        "# Ajustar la señal para casos pares e impares\n",
        "if longitud_senial % 2:\n",
        "    frecuencia_senial[1:longitud_frecuencia_tranformada] *= 2\n",
        "else:\n",
        "    frecuencia_senial[1:longitud_frecuencia_tranformada-1] *= 2"
      ],
      "execution_count": 133,
      "outputs": []
    },
    {
      "cell_type": "code",
      "metadata": {
        "id": "Qohj3q5XyaWY"
      },
      "source": [
        "# Extraer el valor de potencia en dB\n",
        "potencia_senial = 10 * np.log10(frecuencia_senial)"
      ],
      "execution_count": 134,
      "outputs": []
    },
    {
      "cell_type": "code",
      "metadata": {
        "id": "0IiaTyeDw1kB"
      },
      "source": [
        "# Construir el eje X\n",
        "eje_x = np.arange(0, mitad_longitud, 1) * (frecuencia_de_muestreo / longitud_senial) / 1000.0"
      ],
      "execution_count": 135,
      "outputs": []
    },
    {
      "cell_type": "code",
      "metadata": {
        "colab": {
          "base_uri": "https://localhost:8080/",
          "height": 279
        },
        "id": "kxumU_odwy_e",
        "outputId": "db097089-16f6-49b7-8d42-cb63c9113176"
      },
      "source": [
        "# Graficar la figura\n",
        "plt.figure()\n",
        "plt.plot(eje_x, potencia_senial, color='black')\n",
        "plt.ylabel('Potencia de la señal (dB)')\n",
        "plt.xlabel('Frequencia (kHz)')\n",
        "plt.show()"
      ],
      "execution_count": 136,
      "outputs": [
        {
          "output_type": "display_data",
          "data": {
            "image/png": "[encoded data removed]",
            "text/plain": [
              "<Figure size 432x288 with 1 Axes>"
            ]
          },
          "metadata": {
            "tags": [],
            "needs_background": "light"
          }
        }
      ]
    },
    {
      "cell_type": "markdown",
      "metadata": {
        "id": "CMU0KlSCs4vJ"
      },
      "source": [
        "# Generación de un archivo de audio\n",
        "\n",
        "Finalmente, para poder generar archivos de audio necesitamos de las variables que se han calculado anteriormente (No todas), junto con algunos valores extra que se hacen necesarios para la respectiva función de SciPy (wav.write) y el que será el archivo que albergue la salida de nuestra función, por lo que iniciamos por este que para el caso será 'audio_generado.wav', siguiendo la extensión que hemos usado a lo largo de todo este paper; especificamos los parametros del audio a generar junto a unos valores limite, que serán los \"topes\". Para el modelo se genera un espacio lineal \"t\" en la que agregaremos algunos de los datos que declaramos al inicio y sobre este agregamos una señal usando la funsión seno; posteriormente agregamos una señal de ruido sobre la misma frecuencia que declaramos anteriormente, para terminar con la configuración de nuestro archivo, hay que añadir a nuestra señal un factor de escalamiento que (Si se ha prestado atención) será de 16 bits como con las señales anteriores, aunque hay que normalizar la señal primero. Con estos todo esto realizado, generamos el archivo declaranco en write() como primero parametro la variable que contiene el nombre del archivo de salida.\n",
        "\n",
        "Veamos lo que hemos hecho; graficaremos como se hizo en el primer apartado \"Graficación de un archivo de audio\" solo que para este caso tomaremos los 200 primeros valors inciales en lugar de los 50 que se tomó en el ejemplo anterior"
      ]
    },
    {
      "cell_type": "code",
      "metadata": {
        "id": "RSNT45B3ywWw"
      },
      "source": [
        "# Archivo de salida en el cual se grabará el audio \n",
        "archivo_salida = 'audio_generado.wav'"
      ],
      "execution_count": 109,
      "outputs": []
    },
    {
      "cell_type": "code",
      "metadata": {
        "id": "Tnx-rlp5yzgg"
      },
      "source": [
        "# Especificar los parámetros del audio\n",
        "frecuencia_muestreo = 44100  # en Hz\n",
        "frecuencia_tono = 784 # en Hz\n",
        "duracion = 4  # en segundos\n",
        "\n",
        "# Valores limite\n",
        "valor_minimo = -4 * np.pi\n",
        "valor_maximo = 4 * np.pi"
      ],
      "execution_count": 110,
      "outputs": []
    },
    {
      "cell_type": "code",
      "metadata": {
        "id": "9VIV9ChTy0_5"
      },
      "source": [
        "# Generar la señal de audio\n",
        "t = np.linspace(valor_minimo, valor_maximo, duracion * frecuencia_muestreo)\n",
        "senial = np.sin(2 * np.pi * frecuencia_tono * t)"
      ],
      "execution_count": 111,
      "outputs": []
    },
    {
      "cell_type": "code",
      "metadata": {
        "id": "CVULYS6Yy2Ys"
      },
      "source": [
        "# Agregar algún ruido a la señal\n",
        "ruido = 0.5 * np.random.rand(duracion * frecuencia_muestreo)\n",
        "senial += ruido"
      ],
      "execution_count": 112,
      "outputs": []
    },
    {
      "cell_type": "code",
      "metadata": {
        "id": "wFAtyBPJy30_"
      },
      "source": [
        "# Escalar a valores enteros de 16 bits\n",
        "factor_escalamiento = np.power(2, 15) - 1\n",
        "senial_normalizada = senial / np.max(np.abs(senial))\n",
        "senial_escalada = np.int16(senial_normalizada * factor_escalamiento)"
      ],
      "execution_count": 113,
      "outputs": []
    },
    {
      "cell_type": "code",
      "metadata": {
        "id": "IFB9jZdXy5XH"
      },
      "source": [
        "# Almacenar la señal de audio en el archivo de salida \n",
        "wav.write(archivo_salida, frecuencia_muestreo, senial_escalada)"
      ],
      "execution_count": 114,
      "outputs": []
    },
    {
      "cell_type": "code",
      "metadata": {
        "id": "txx0GIN9y7cp"
      },
      "source": [
        "# Extraer los primeros 200 valores de la señal de audio\n",
        "senial = senial[:200]"
      ],
      "execution_count": 115,
      "outputs": []
    },
    {
      "cell_type": "code",
      "metadata": {
        "id": "CA1K50l4y8j7"
      },
      "source": [
        "# Construir el eje del tiempo en milisegundos\n",
        "eje_tiempo = 1000 * np.arange(0, len(senial), 1) / float(frecuencia_muestreo) "
      ],
      "execution_count": 116,
      "outputs": []
    },
    {
      "cell_type": "code",
      "metadata": {
        "colab": {
          "base_uri": "https://localhost:8080/",
          "height": 295
        },
        "id": "ERIR0Wmos_Jz",
        "outputId": "53bee438-79ba-4681-8438-4dd0fde9598c"
      },
      "source": [
        "# Graficar la señal de audio\n",
        "plt.plot(eje_tiempo, senial, color='black')\n",
        "plt.xlabel('Tiempo (milisegundos)')\n",
        "plt.ylabel('Amplitud')\n",
        "plt.title('Señal de audio generada')\n",
        "plt.show()\n"
      ],
      "execution_count": 117,
      "outputs": [
        {
          "output_type": "display_data",
          "data": {
            "image/png": "[encoded data removed]",
            "text/plain": [
              "<Figure size 432x288 with 1 Axes>"
            ]
          },
          "metadata": {
            "tags": [],
            "needs_background": "light"
          }
        }
      ]
    },
    {
      "cell_type": "markdown",
      "metadata": {
        "id": "iR4xuqHws4oS"
      },
      "source": [
        "# Algunas notas\n",
        "\n",
        "Analizando el contenido vemos que la generación de audio y la graficación en diferentes dominios, es relativamente sencilla; al analizar el codigo, vemos que lo más complicado de estos modelos es el analisis matematico y la forma de llegar a estos es lo más complicado."
      ]
    },
    {
      "cell_type": "markdown",
      "metadata": {
        "id": "oJmt4F2AsUFP"
      },
      "source": [
        "# Referencias\n",
        "\n",
        "*   Gilberto Vargas Cano. (2021). 01-Graficar-Audio.ipynb. Domingo 25 de abril de 2021, de Universidad Tecnologica de Pereira Sitio web: https://colab.research.google.com/drive/1U8FReSAdWrT8itlBz4CKSvM5lLpCyBQB?authuser=1&usp=drive_open\n",
        "\n",
        "*   Gilberto Vargas Cano. (2021). 02-Transformar-A-Frecuencia.ipynb. Domingo 25 de abril de 2021, de Universidad Tecnologica de Pereira Sitio web: https://colab.research.google.com/drive/1-lHDilJZ4ITeOt6lZhfLynLXAbjkhmzj?authuser=1&usp=drive_open\n",
        "\n",
        "*   Gilberto Vargas Cano. (2021). 03-Generar_Audio.ipynb. Domingo 25 de abril de 2021, de Universidad Tecnologica de Pereira Sitio web: https://colab.research.google.com/drive/1RJSinto5rDgcl2vGW3rcaaOmN9kmqVCO?authuser=1&usp=drive_open\n",
        "\n",
        "*   The SciPy community. (2008-2020). NumPy v1.20 Manual. Lunes 26 de abril de 2021, de numpy.org Sitio web: https://numpy.org/doc/stable/\n",
        "\n",
        "*   John Hunter, Darren Dale, Eric Firing, Michael Droettboom and the Matplotlib development team (2002-2012). The Matplotlib development team (2012-2021). matplotlib.pyplot. Lunes 26 de abril de 2021, de matplotlib.org Sitio web: https://matplotlib.org/stable/api/_as_gen/matplotlib.pyplot.html\n",
        "\n",
        "*   The SciPy community. (2008-2021). scipy.io.wavfile.read. Lunes 26 de abril de 2021, de SciPy.org Sitio web: https://docs.scipy.org/doc/scipy/reference/generated/scipy.io.wavfile.read.html\n",
        "\n",
        "*   The SciPy community. (2008-2021). scipy.io.wavfile.write. Lunes 26 de abril de 2021, de SciPy.org Sitio web: https://docs.scipy.org/doc/scipy/reference/generated/scipy.io.wavfile.write.html\n"
      ]
    }
  ]
}