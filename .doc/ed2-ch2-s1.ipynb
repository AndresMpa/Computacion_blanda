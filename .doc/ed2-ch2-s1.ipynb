{
 "cells": [
  {
   "cell_type": "markdown",
   "metadata": {},
   "source": [
    "<img style=\"float:left; width:600px;\" src=\"slider/slider-001.png\">"
   ]
  },
  {
   "cell_type": "markdown",
   "metadata": {},
   "source": [
    "<img style=\"float:left; width:600px;\" src=\"slider/slider-002.png\">"
   ]
  },
  {
   "cell_type": "code",
   "execution_count": 8,
   "metadata": {},
   "outputs": [
    {
     "name": "stdout",
     "output_type": "stream",
     "text": [
      "Matriz X: \n",
      " [[ 6]\n",
      " [ 8]\n",
      " [10]\n",
      " [14]\n",
      " [18]]\n"
     ]
    },
    {
     "data": {
      "image/png": "[encoded data removed]",
      "text/plain": [
       "<Figure size 432x288 with 1 Axes>"
      ]
     },
     "metadata": {
      "needs_background": "light"
     },
     "output_type": "display_data"
    }
   ],
   "source": [
    "# \"np\" y \"plt\" son \"alias\" para NumPy y Matplotlib, respecivamente.\n",
    "# --------------------------------------------------------------------------------\n",
    "import numpy as np\n",
    "import matplotlib.pyplot as plt\n",
    "\n",
    "# X representa el diámetro de las pizzas.\n",
    "# Una convención de scikit-Learn es nombrar la matriz \n",
    "# del vector independiente con el mombre X.\n",
    "# Las letras mayúsculas indican matrices, y las letras minúsculas indican vectores.\n",
    "# El valor -1 fuerza a numpy a calcular el valor que mejor se acomoda a la matriz\n",
    "# Para el caso mostrado, genera una matriz de 5 filas y 1 columna\n",
    "# --------------------------------------------------------------------------------\n",
    "X = np.array([6, 8, 10, 14, 18]).reshape(-1, 1)\n",
    "\n",
    "print(\"Matriz X: \\n\", X)\n",
    "\n",
    "# y es un vector que representa los precios de las pizzas\n",
    "# --------------------------------------------------------------------------------\n",
    "y = [7, 9, 13, 17.5, 18]\n",
    "\n",
    "# Se genera la figura\n",
    "# --------------------------------------------------------------------------------\n",
    "plt.figure()\n",
    "plt.title('Precio de la Pizza contra el diámetro')\n",
    "plt.xlabel('Diametro en pulgadas')\n",
    "plt.ylabel('Precio en dólares')\n",
    "\n",
    "# Se genera la grafica X contra y, color azul (blue), tamaño del punto, 20\n",
    "# --------------------------------------------------------------------------------\n",
    "plt.plot(X, y, 'b.', markersize=20)\n",
    "\n",
    "# Se definen los ejes, horizontal y vertical\n",
    "# --------------------------------------------------------------------------------\n",
    "plt.axis([0, 25, 0, 25])\n",
    "\n",
    "# Se genera una retícula\n",
    "# --------------------------------------------------------------------------------\n",
    "plt.grid(True)\n",
    "\n",
    "# Se grafica la función sobre la interfaz visual\n",
    "# --------------------------------------------------------------------------------\n",
    "plt.show()"
   ]
  },
  {
   "cell_type": "code",
   "execution_count": null,
   "metadata": {},
   "outputs": [],
   "source": []
  }
 ],
 "metadata": {
  "kernelspec": {
   "display_name": "Python 3",
   "language": "python",
   "name": "python3"
  },
  "language_info": {
   "codemirror_mode": {
    "name": "ipython",
    "version": 3
   },
   "file_extension": ".py",
   "mimetype": "text/x-python",
   "name": "python",
   "nbconvert_exporter": "python",
   "pygments_lexer": "ipython3",
   "version": "3.8.3"
  }
 },
 "nbformat": 4,
 "nbformat_minor": 2
}
