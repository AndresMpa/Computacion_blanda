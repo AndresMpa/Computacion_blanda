{
 "cells": [
  {
   "cell_type": "markdown",
   "metadata": {},
   "source": [
    "<img style=\"float:left; width:550px;\" src=\"slider/slider-004.png\">"
   ]
  },
  {
   "cell_type": "code",
   "execution_count": 15,
   "metadata": {},
   "outputs": [],
   "source": [
    "import numpy as np\n",
    "from sklearn.linear_model import LinearRegression"
   ]
  },
  {
   "cell_type": "code",
   "execution_count": 16,
   "metadata": {},
   "outputs": [],
   "source": [
    "X_entrenamiento = np.array([6, 8, 10, 14, 18]).reshape(-1, 1)\n",
    "y = [7, 9, 13, 17.5, 18]"
   ]
  },
  {
   "cell_type": "code",
   "execution_count": 17,
   "metadata": {},
   "outputs": [
    {
     "name": "stdout",
     "output_type": "stream",
     "text": [
      "Una pizza de 12\" debe costar: $13.68\n"
     ]
    }
   ],
   "source": [
    "# Crea una instancia del estimador, en este caso Regresión Lineal\n",
    "# ---------------------------------------------------------------------------\n",
    "model = LinearRegression()\n",
    "\n",
    "# Ajusta el modelo con base en los datos de entrenamiento\n",
    "# ---------------------------------------------------------------------------\n",
    "model.fit(X_entrenamiento, y)\n",
    "\n",
    "# Predice el precio de una pizza con un diámetro que nunca ha sido visto antes\n",
    "# ---------------------------------------------------------------------------\n",
    "test_pizza = np.array([[12]])\n",
    "precio_calculado = model.predict(test_pizza)[0]\n",
    "print('Una pizza de 12\" debe costar: $%.2f' % precio_calculado)"
   ]
  },
  {
   "cell_type": "code",
   "execution_count": 18,
   "metadata": {},
   "outputs": [
    {
     "name": "stdout",
     "output_type": "stream",
     "text": [
      "Residuo de la suma de cuadrados: 1.75\n"
     ]
    }
   ],
   "source": [
    "print('Residuo de la suma de cuadrados: %.2f' % np.mean((model.predict(X_entrenamiento) - y) ** 2))"
   ]
  },
  {
   "cell_type": "markdown",
   "metadata": {},
   "source": [
    "<img style=\"float:left; width:520px;\" src=\"slider/slider-005.png\">"
   ]
  },
  {
   "cell_type": "markdown",
   "metadata": {},
   "source": [
    "<img style=\"float:left; width:500px;\" src=\"slider/slider-006.png\">"
   ]
  }
 ],
 "metadata": {
  "kernelspec": {
   "display_name": "Python 3",
   "language": "python",
   "name": "python3"
  },
  "language_info": {
   "codemirror_mode": {
    "name": "ipython",
    "version": 3
   },
   "file_extension": ".py",
   "mimetype": "text/x-python",
   "name": "python",
   "nbconvert_exporter": "python",
   "pygments_lexer": "ipython3",
   "version": "3.8.3"
  }
 },
 "nbformat": 4,
 "nbformat_minor": 2
}
