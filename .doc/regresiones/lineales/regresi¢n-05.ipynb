{
 "cells": [
  {
   "cell_type": "markdown",
   "metadata": {},
   "source": [
    "<img style=\"float:left; width:600px;\" src=\"slider/slider-007.png\">"
   ]
  },
  {
   "cell_type": "markdown",
   "metadata": {},
   "source": [
    "<img style=\"float:left; width:600px;\" src=\"slider/slider-008.png\">"
   ]
  },
  {
   "cell_type": "code",
   "execution_count": 1,
   "metadata": {},
   "outputs": [
    {
     "name": "stdout",
     "output_type": "stream",
     "text": [
      "11.2\n",
      "23.2\n"
     ]
    }
   ],
   "source": [
    "import numpy as np\n",
    "\n",
    "# Cálculo del promedio\n",
    "# --------------------------------------------------------------------------------------------------\n",
    "X = np.array([[6], [8], [10], [14], [18]]).reshape(-1, 1)\n",
    "x_media = X.mean()\n",
    "print(x_media)\n",
    "\n",
    "# Note que restamos 1 al número de elementos de entrenamiento cuando se calcula la varianza simple.\n",
    "# Esta técnica es llamada la corrección de Bessel. Con ello se corrige el sesgo en la estimación de \n",
    "# la varianza poblacional de una muestra\n",
    "# --------------------------------------------------------------------------------------------------\n",
    "varianza = ((X - x_media)**2).sum() / (X.shape[0] - 1)\n",
    "print(varianza)"
   ]
  },
  {
   "cell_type": "code",
   "execution_count": 2,
   "metadata": {},
   "outputs": [
    {
     "name": "stdout",
     "output_type": "stream",
     "text": [
      "23.2\n"
     ]
    }
   ],
   "source": [
    "# El cálculo de la varianza se realiza utilizando, en numpy, una función llamada \"var\"\n",
    "# El parámetro ddof se puede utilizar para establecer la corrección de Bessel \n",
    "# en el cálculo de la varianza de la muestra:\n",
    "\n",
    "print(np.var(X, ddof=1))"
   ]
  },
  {
   "cell_type": "markdown",
   "metadata": {},
   "source": [
    "<img style=\"float:left; width:600px;\" src=\"slider/slider-010.png\">"
   ]
  },
  {
   "cell_type": "code",
   "execution_count": 8,
   "metadata": {},
   "outputs": [
    {
     "name": "stdout",
     "output_type": "stream",
     "text": [
      "22.65\n",
      "22.65\n"
     ]
    }
   ],
   "source": [
    "# Hemos utilizado previamente una lista par representar a y\n",
    "# Si utilizamos \"ndarray\" para representar a y, podemos calcular fácilmente su media\n",
    "# We previously used a List to represent y.\n",
    "# -------------------------------------------------------------------------------------------\n",
    "y = np.array([7, 9, 13, 17.5, 18])\n",
    "y_media = y.mean()\n",
    "\n",
    "# Debemos transponer X debido a que ambos operandos deben ser vectores fila\n",
    "# -------------------------------------------------------------------------------------------\n",
    "covarianza = np.multiply((X - x_media).transpose(), y - y_media).sum()\n",
    "/ (X.shape[0] - 1)\n",
    "\n",
    "# Cálculo algorítmico\n",
    "print(covarianza)\n",
    "\n",
    "# Cálculo basado en función numpy\n",
    "print(np.cov(X.transpose(), y)[0][1])"
   ]
  },
  {
   "cell_type": "markdown",
   "metadata": {
    "collapsed": true
   },
   "source": [
    "<img style=\"float:left; width:600px;\" src=\"slider/slider-011.png\">"
   ]
  }
 ],
 "metadata": {
  "kernelspec": {
   "display_name": "Python 3",
   "language": "python",
   "name": "python3"
  },
  "language_info": {
   "codemirror_mode": {
    "name": "ipython",
    "version": 3
   },
   "file_extension": ".py",
   "mimetype": "text/x-python",
   "name": "python",
   "nbconvert_exporter": "python",
   "pygments_lexer": "ipython3",
   "version": "3.8.3"
  }
 },
 "nbformat": 4,
 "nbformat_minor": 2
}
