{
 "cells": [
  {
   "cell_type": "markdown",
   "metadata": {},
   "source": [
    "<img style=\"float:left; width:600px;\" src=\"slider/slider-003.png\">"
   ]
  },
  {
   "cell_type": "code",
   "execution_count": 1,
   "metadata": {},
   "outputs": [],
   "source": [
    "import numpy as np\n",
    "\n",
    "# Se utiliza el modelo de regresión lineal definido en sklearn\n",
    "# ----------------------------------------------------------------------------\n",
    "from sklearn.linear_model import LinearRegression"
   ]
  },
  {
   "cell_type": "code",
   "execution_count": 2,
   "metadata": {},
   "outputs": [],
   "source": [
    "# Valores orginales de valor pizza contra diámetro\n",
    "# ----------------------------------------------------------------------------\n",
    "X = np.array([6, 8, 10, 14, 18]).reshape(-1, 1)\n",
    "y = [7, 9, 13, 17.5, 18]"
   ]
  },
  {
   "cell_type": "code",
   "execution_count": 5,
   "metadata": {},
   "outputs": [
    {
     "name": "stdout",
     "output_type": "stream",
     "text": [
      "Un pizza de 12 pulgadas de diámetro debería costar: $13.68\n"
     ]
    }
   ],
   "source": [
    "# Crea una instancia del estimador de regresión lineal\n",
    "# ----------------------------------------------------------------------------\n",
    "model = LinearRegression()\n",
    "\n",
    "# Ajusta el modelo a los datos de entrenamiento\n",
    "# ----------------------------------------------------------------------------\n",
    "model.fit(X, y)\n",
    "\n",
    "# Predice el precio de una pizza con un diámetro que el sistema no conoce aún\n",
    "# ----------------------------------------------------------------------------\n",
    "# El tamaño [12] no existe en los datos de entrenamiento\n",
    "test_pizza = np.array([[12]])\n",
    "\n",
    "# En este punto se pasa a utilizar la función \"predict\", cuyo propósito es \n",
    "# PREDECIR un svalor en y (costo) asociado a un diámetro de la pizza.\n",
    "# Supongamos que se quiere encontrar cual es el precio de una pizza con\n",
    "# diámetro 12.\n",
    "# ----------------------------------------------------------------------------\n",
    "# \"predict\" recibe como parámetro el valor de \"test_pizza\" aplicado en y\n",
    "# para lo cual se utiliza un segundo valor: [0], el cual representa el segundo\n",
    "# ----------------------------------------------------------------------------\n",
    "precio_sugerido = model.predict(test_pizza)[0]\n",
    "\n",
    "print('Un pizza de 12 pulgadas de diámetro debería costar: $%.2f' % precio_sugerido)"
   ]
  }
 ],
 "metadata": {
  "kernelspec": {
   "display_name": "Python 3",
   "language": "python",
   "name": "python3"
  },
  "language_info": {
   "codemirror_mode": {
    "name": "ipython",
    "version": 3
   },
   "file_extension": ".py",
   "mimetype": "text/x-python",
   "name": "python",
   "nbconvert_exporter": "python",
   "pygments_lexer": "ipython3",
   "version": "3.8.3"
  }
 },
 "nbformat": 4,
 "nbformat_minor": 2
}
